{
  "nbformat": 4,
  "nbformat_minor": 0,
  "metadata": {
    "colab": {
      "provenance": [],
      "include_colab_link": true
    },
    "kernelspec": {
      "name": "python3",
      "display_name": "Python 3"
    },
    "language_info": {
      "name": "python"
    }
  },
  "cells": [
    {
      "cell_type": "markdown",
      "metadata": {
        "id": "view-in-github",
        "colab_type": "text"
      },
      "source": [
        "<a href=\"https://colab.research.google.com/github/dihanageisela/KKA-X-Semester-1-dihanageisela/blob/main/Fungsi_print_dihana_x_2.ipynb\" target=\"_parent\"><img src=\"https://colab.research.google.com/assets/colab-badge.svg\" alt=\"Open In Colab\"/></a>"
      ]
    },
    {
      "cell_type": "markdown",
      "source": [
        "Nama:dihana geisela\n",
        "\n",
        "Kelas:x-2\n",
        "\n",
        "Nomor absen:8"
      ],
      "metadata": {
        "id": "5cJ7SVV3trDi"
      }
    },
    {
      "cell_type": "markdown",
      "source": [
        "#Menampilkan teks bebas"
      ],
      "metadata": {
        "id": "KhMIzAbauzwG"
      }
    },
    {
      "cell_type": "code",
      "source": [
        "print(\"Hello world! \")"
      ],
      "metadata": {
        "colab": {
          "base_uri": "https://localhost:8080/"
        },
        "id": "Xz6xcESvv-7m",
        "outputId": "e125a99d-1929-45e8-c12a-49e4040f1a4f"
      },
      "execution_count": null,
      "outputs": [
        {
          "output_type": "stream",
          "name": "stdout",
          "text": [
            "Hello world! \n"
          ]
        }
      ]
    },
    {
      "cell_type": "code",
      "source": [
        "print(\"Nama: dihana geisela\")\n",
        "print(\"Kelas: X.2\")\n",
        "print(\"No.absen:08\")"
      ],
      "metadata": {
        "colab": {
          "base_uri": "https://localhost:8080/"
        },
        "id": "tTY4lOHV3CNa",
        "outputId": "fcd70f09-7e78-43fc-c336-e4ec66e2f66f"
      },
      "execution_count": null,
      "outputs": [
        {
          "output_type": "stream",
          "name": "stdout",
          "text": [
            "Nama: dihana geisela\n",
            "Kelas: X.2\n",
            "No.absen:08\n"
          ]
        }
      ]
    },
    {
      "cell_type": "code",
      "source": [
        "print(\"\"\"Nama: dihana geisela\n",
        "Kelas:X.2\n",
        "No.absen:08\"\"\")"
      ],
      "metadata": {
        "colab": {
          "base_uri": "https://localhost:8080/"
        },
        "id": "ynB2RFdu3O2G",
        "outputId": "968a6d74-836d-49b6-f2a0-39e6369a3474"
      },
      "execution_count": null,
      "outputs": [
        {
          "output_type": "stream",
          "name": "stdout",
          "text": [
            "Nama: dihana geisela\n",
            "Kelas:X.2\n",
            "No.absen:08\n"
          ]
        }
      ]
    },
    {
      "cell_type": "code",
      "source": [
        "print(\"dihana geisela\")"
      ],
      "metadata": {
        "colab": {
          "base_uri": "https://localhost:8080/"
        },
        "id": "s6UJZbj1whEX",
        "outputId": "b2dcf15f-5140-42df-ad87-192e8d9c6678"
      },
      "execution_count": null,
      "outputs": [
        {
          "output_type": "stream",
          "name": "stdout",
          "text": [
            "dihana geisela\n"
          ]
        }
      ]
    },
    {
      "cell_type": "markdown",
      "source": [
        "#Menampilkan variable"
      ],
      "metadata": {
        "id": "P0C1ESPhxS10"
      }
    },
    {
      "cell_type": "code",
      "source": [
        "usia = 15\n",
        "print(\"15\")"
      ],
      "metadata": {
        "colab": {
          "base_uri": "https://localhost:8080/"
        },
        "id": "xqdklaO9lf3X",
        "outputId": "5fc42496-8e85-4cd7-e994-6cd211c45c85"
      },
      "execution_count": null,
      "outputs": [
        {
          "output_type": "stream",
          "name": "stdout",
          "text": [
            "15\n"
          ]
        }
      ]
    },
    {
      "cell_type": "code",
      "source": [
        "berat_badan = 50\n",
        "print(berat_badan)"
      ],
      "metadata": {
        "colab": {
          "base_uri": "https://localhost:8080/"
        },
        "id": "r7QSH5vkxaRM",
        "outputId": "e89ef76f-9014-4dbb-ed53-c17a8823f4d7"
      },
      "execution_count": null,
      "outputs": [
        {
          "output_type": "stream",
          "name": "stdout",
          "text": [
            "50\n"
          ]
        }
      ]
    },
    {
      "cell_type": "code",
      "source": [
        "Nama = \"dihana geisela\"\n",
        "\n",
        "print(Nama)"
      ],
      "metadata": {
        "colab": {
          "base_uri": "https://localhost:8080/"
        },
        "id": "XPevKvg_xyVN",
        "outputId": "ae84c84b-0ec1-4d58-9bdd-b962fe8ebc2e"
      },
      "execution_count": null,
      "outputs": [
        {
          "output_type": "stream",
          "name": "stdout",
          "text": [
            "dihana geisela\n"
          ]
        }
      ]
    },
    {
      "cell_type": "markdown",
      "source": [],
      "metadata": {
        "id": "iJg3yxvil6oz"
      }
    },
    {
      "cell_type": "markdown",
      "source": [
        "Menampilkan teks bebas dan variabel"
      ],
      "metadata": {
        "id": "aE8W9FXhl71n"
      }
    },
    {
      "cell_type": "code",
      "source": [
        "print(\"berat badan saya adalah\", berat_badan,\"kg.\")"
      ],
      "metadata": {
        "colab": {
          "base_uri": "https://localhost:8080/"
        },
        "id": "daioL7V5zFdu",
        "outputId": "51b3144c-6a97-47e4-f5fc-95eca44d861b"
      },
      "execution_count": null,
      "outputs": [
        {
          "output_type": "stream",
          "name": "stdout",
          "text": [
            "berat badan saya adalah 50 kg.\n"
          ]
        }
      ]
    },
    {
      "cell_type": "code",
      "source": [
        "print(\"perkenalkan nama saya, \" + Nama + \".\")"
      ],
      "metadata": {
        "colab": {
          "base_uri": "https://localhost:8080/"
        },
        "id": "DqfZtQxiyVIg",
        "outputId": "5dd0a309-5a69-4b85-8b6f-5f79e981b493"
      },
      "execution_count": null,
      "outputs": [
        {
          "output_type": "stream",
          "name": "stdout",
          "text": [
            "perkenalkan nama saya, dihana geisela.\n"
          ]
        }
      ]
    },
    {
      "cell_type": "code",
      "source": [
        "print(\" berat badan saya adalah \" + str(berat_badan) +\"kg.\")"
      ],
      "metadata": {
        "colab": {
          "base_uri": "https://localhost:8080/"
        },
        "id": "_2DPshLY2c3L",
        "outputId": "cb4b838a-cf4a-4cea-c5d7-df50c1cca7a8"
      },
      "execution_count": null,
      "outputs": [
        {
          "output_type": "stream",
          "name": "stdout",
          "text": [
            " berat badan saya adalah 50kg.\n"
          ]
        }
      ]
    },
    {
      "cell_type": "code",
      "source": [
        "print(f\"perkenalkan nama saya {Nama}.\")"
      ],
      "metadata": {
        "colab": {
          "base_uri": "https://localhost:8080/"
        },
        "id": "ujBmQiVm2-4M",
        "outputId": "0029d1d3-48c9-4362-cd80-ee369041b13b"
      },
      "execution_count": null,
      "outputs": [
        {
          "output_type": "stream",
          "name": "stdout",
          "text": [
            "perkenalkan nama saya dihana geisela.\n"
          ]
        }
      ]
    },
    {
      "cell_type": "code",
      "source": [
        "print(f\"Berat badan saya adalah {berat_badan}.\")"
      ],
      "metadata": {
        "colab": {
          "base_uri": "https://localhost:8080/"
        },
        "id": "69nWta7A3QPR",
        "outputId": "4c8d7a58-db3b-4948-877e-f97d672dcbaf"
      },
      "execution_count": null,
      "outputs": [
        {
          "output_type": "stream",
          "name": "stdout",
          "text": [
            "Berat badan saya adalah 50.\n"
          ]
        }
      ]
    },
    {
      "cell_type": "markdown",
      "source": [
        "Escape character"
      ],
      "metadata": {
        "id": "rlj0HnJKmjX2"
      }
    },
    {
      "cell_type": "code",
      "source": [
        "print(\"Nama: dihana geisela kelas :x.2 No. absen:08\")"
      ],
      "metadata": {
        "colab": {
          "base_uri": "https://localhost:8080/"
        },
        "id": "QYgxFioBmtKB",
        "outputId": "0775f6f3-490d-4b36-ff44-0bc2312f888a"
      },
      "execution_count": null,
      "outputs": [
        {
          "output_type": "stream",
          "name": "stdout",
          "text": [
            "Nama: dihana geisela kelas :x.2 No. absen:08\n"
          ]
        }
      ]
    },
    {
      "cell_type": "code",
      "source": [
        "print(\"Nama:dihana geisela\")\n",
        "print(\"Kelas:x.2\")\n",
        "print(\"No.absen:08\")"
      ],
      "metadata": {
        "colab": {
          "base_uri": "https://localhost:8080/"
        },
        "id": "ffgJh838nQ8C",
        "outputId": "050df12c-b5df-4aa6-f8b3-d0d6ab4a2304"
      },
      "execution_count": null,
      "outputs": [
        {
          "output_type": "stream",
          "name": "stdout",
          "text": [
            "Nama:dihana geisela\n",
            "Kelas:x.2\n",
            "No.absen:08\n"
          ]
        }
      ]
    },
    {
      "cell_type": "code",
      "source": [
        "print(\"\"\"Nama: dihana geisela\n",
        "Kelas:x.2\n",
        "No. absen:08\"\"\")"
      ],
      "metadata": {
        "colab": {
          "base_uri": "https://localhost:8080/"
        },
        "id": "Ri4Ea5V3nu41",
        "outputId": "b67eaba1-6adf-4cc0-cffe-6534aa87c1c7"
      },
      "execution_count": null,
      "outputs": [
        {
          "output_type": "stream",
          "name": "stdout",
          "text": [
            "Nama: dihana geisela\n",
            "Kelas:x.2\n",
            "No. absen:08\n"
          ]
        }
      ]
    },
    {
      "cell_type": "code",
      "source": [
        "print(\"Nama\\t\\t: dihana geisela\\nKelas\\t\\t: X.2\\nNo. Absen\\t: 08\")"
      ],
      "metadata": {
        "colab": {
          "base_uri": "https://localhost:8080/"
        },
        "id": "JoGzOCrgrHVh",
        "outputId": "83a49ead-b26f-46ff-ab54-e9913b5212f0"
      },
      "execution_count": null,
      "outputs": [
        {
          "output_type": "stream",
          "name": "stdout",
          "text": [
            "Nama\t\t: dihana geisela\n",
            "Kelas\t\t: X.2\n",
            "No. Absen\t: 08\n"
          ]
        }
      ]
    },
    {
      "cell_type": "code",
      "source": [
        "print(\"Nama\\t\\t: dihana geisela\\nKelas\\t\\t: X.2\\nNo. Absen\\t: 08\")"
      ],
      "metadata": {
        "colab": {
          "base_uri": "https://localhost:8080/"
        },
        "id": "m2SfwCGfrX6g",
        "outputId": "63127353-6743-46a4-9ee1-e877b84a63a5"
      },
      "execution_count": null,
      "outputs": [
        {
          "output_type": "stream",
          "name": "stdout",
          "text": [
            "Nama\t\t: dihana geisela\n",
            "Kelas\t\t: X.2\n",
            "No. Absen\t: 08\n"
          ]
        }
      ]
    },
    {
      "cell_type": "code",
      "source": [
        "print(\"Nama\\t\\t: Ja'far shodiq\\nKelas\\t\\t: X.2\\nNo. Absen\\t: 29\")"
      ],
      "metadata": {
        "colab": {
          "base_uri": "https://localhost:8080/"
        },
        "id": "SRjjpaverhr-",
        "outputId": "379d6798-d179-420f-aa68-bb9562989639"
      },
      "execution_count": null,
      "outputs": [
        {
          "output_type": "stream",
          "name": "stdout",
          "text": [
            "Nama\t\t: Ja'far shodiq\n",
            "Kelas\t\t: X.2\n",
            "No. Absen\t: 29\n"
          ]
        }
      ]
    },
    {
      "cell_type": "code",
      "source": [
        "print('Bu Shinta mengatakan \"Semua bisa dipelajari\"')"
      ],
      "metadata": {
        "colab": {
          "base_uri": "https://localhost:8080/"
        },
        "id": "9Gpok_i9rkbL",
        "outputId": "0fde9590-a00d-4395-ef6a-eb5dd0f0927e"
      },
      "execution_count": null,
      "outputs": [
        {
          "output_type": "stream",
          "name": "stdout",
          "text": [
            "Bu Shinta mengatakan \"Semua bisa dipelajari\"\n"
          ]
        }
      ]
    },
    {
      "cell_type": "code",
      "source": [
        "print(\"Lokasi file tugas KKA: Local disk D:\\\\KKA\\\\Tugas\")"
      ],
      "metadata": {
        "colab": {
          "base_uri": "https://localhost:8080/"
        },
        "id": "ISbFDipPrt5J",
        "outputId": "89ae13b9-7bd6-48c4-f111-394f628ae20e"
      },
      "execution_count": null,
      "outputs": [
        {
          "output_type": "stream",
          "name": "stdout",
          "text": [
            "Lokasi file tugas KKA: Local disk D:\\KKA\\Tugas\n"
          ]
        }
      ]
    },
    {
      "cell_type": "code",
      "source": [
        "print(\"Jadwal Pelajaran Mingguan\")"
      ],
      "metadata": {
        "colab": {
          "base_uri": "https://localhost:8080/"
        },
        "id": "GU_CevRYry6m",
        "outputId": "7dcec707-c05e-47d2-e949-52ea370009a9"
      },
      "execution_count": null,
      "outputs": [
        {
          "output_type": "stream",
          "name": "stdout",
          "text": [
            "Jadwal Pelajaran Mingguan\n"
          ]
        }
      ]
    },
    {
      "cell_type": "code",
      "source": [
        "print(\"===============================\")"
      ],
      "metadata": {
        "colab": {
          "base_uri": "https://localhost:8080/"
        },
        "id": "Dldz3t_tr2fr",
        "outputId": "13bdc5d2-29ab-491a-91de-d7b7da9fb448"
      },
      "execution_count": null,
      "outputs": [
        {
          "output_type": "stream",
          "name": "stdout",
          "text": [
            "===============================\n"
          ]
        }
      ]
    },
    {
      "cell_type": "code",
      "source": [
        "print(\"Jam\\tSenin\\t\\tSelasa\\t\\tRabu\")"
      ],
      "metadata": {
        "colab": {
          "base_uri": "https://localhost:8080/"
        },
        "id": "Ly2FNhvwr7pQ",
        "outputId": "e0e51af4-6784-483a-8a34-c8e1bfdb10a8"
      },
      "execution_count": null,
      "outputs": [
        {
          "output_type": "stream",
          "name": "stdout",
          "text": [
            "Jam\tSenin\t\tSelasa\t\tRabu\n"
          ]
        }
      ]
    },
    {
      "cell_type": "code",
      "source": [
        "print(\"Jam1\\tMatematika\\tBahasa\\t\\tInformatika\")"
      ],
      "metadata": {
        "colab": {
          "base_uri": "https://localhost:8080/"
        },
        "id": "b_Chp3nWr-Rc",
        "outputId": "0783bfec-1b71-4ae8-c407-b7695ee7e28d"
      },
      "execution_count": null,
      "outputs": [
        {
          "output_type": "stream",
          "name": "stdout",
          "text": [
            "Jam1\tMatematika\tBahasa\t\tInformatika\n"
          ]
        }
      ]
    },
    {
      "cell_type": "code",
      "source": [
        "print(\"Jam 2\\tBahasa Ing.\\tSejarah\\t\\tMa\\'rifatullah\")"
      ],
      "metadata": {
        "colab": {
          "base_uri": "https://localhost:8080/"
        },
        "id": "dncZiNiksA4A",
        "outputId": "9b3c49f2-fb49-4095-aa62-7bc2bda9aae5"
      },
      "execution_count": null,
      "outputs": [
        {
          "output_type": "stream",
          "name": "stdout",
          "text": [
            "Jam 2\tBahasa Ing.\tSejarah\t\tMa'rifatullah\n"
          ]
        }
      ]
    },
    {
      "cell_type": "code",
      "source": [
        "print(\"Jam3\\tInformatika\\tOlahraga\\tBiologi\")"
      ],
      "metadata": {
        "colab": {
          "base_uri": "https://localhost:8080/"
        },
        "id": "3JpB6k_CsDmr",
        "outputId": "b051019b-f6ac-4666-c004-7b0270c232ac"
      },
      "execution_count": null,
      "outputs": [
        {
          "output_type": "stream",
          "name": "stdout",
          "text": [
            "Jam3\tInformatika\tOlahraga\tBiologi\n"
          ]
        }
      ]
    },
    {
      "cell_type": "markdown",
      "source": [
        "Parameter fungsi print"
      ],
      "metadata": {
        "id": "3Cgm-TD8sLgi"
      }
    },
    {
      "cell_type": "code",
      "source": [
        "nama_siswa_1 = \"Jielo\"\n",
        "\n",
        "nama_siswa_2 = \"Aida\"\n",
        "\n",
        "nama_siswa_3 = \"Dani\"\n",
        "\n",
        "print(nama_siswa_1, end=\"-\")\n",
        "\n",
        "print(nama_siswa_2, end=\"-\")\n",
        "\n",
        "print(nama_siswa_3)"
      ],
      "metadata": {
        "id": "pIeoUUC-sOUC",
        "colab": {
          "base_uri": "https://localhost:8080/"
        },
        "outputId": "49f84bd8-a178-4687-a37b-1e3f7f2ac909"
      },
      "execution_count": null,
      "outputs": [
        {
          "output_type": "stream",
          "name": "stdout",
          "text": [
            "Jielo-Aida-Dani\n"
          ]
        }
      ]
    },
    {
      "cell_type": "code",
      "source": [
        "nama_siswa_1 =\"Jielo\"\n",
        "nama_siswa_2 =\"Aida\"\n",
        "nama_siswa_3 =\"Dani\"\n",
        "nama_siswa_4 =\"Nurul\"\n",
        "print(nama_siswa_4,end=\"/\")\n",
        "print(nama_siswa_2,end=\"/\")\n",
        "print(nama_siswa_1,end=\"/\")\n",
        "print(nama_siswa_3)"
      ],
      "metadata": {
        "colab": {
          "base_uri": "https://localhost:8080/"
        },
        "id": "FDBwSzJYs94E",
        "outputId": "2644cc3d-2e44-4e03-c3a4-e360ebb2d57d"
      },
      "execution_count": null,
      "outputs": [
        {
          "output_type": "stream",
          "name": "stdout",
          "text": [
            "Nurul/Aida/Jielo/Dani\n"
          ]
        }
      ]
    },
    {
      "cell_type": "code",
      "source": [
        "\n",
        "nama_siswa_5 = \"Hasbi\"\n",
        "nama_siswa_6 = \"Habibi\"\n",
        "nama_siswa_7 = \"Rendra\"\n",
        "nama_siswa_8 = \"Naufal\""
      ],
      "metadata": {
        "id": "Ua9OKrwMtJIB"
      },
      "execution_count": null,
      "outputs": []
    },
    {
      "cell_type": "code",
      "source": [
        "print(nama_siswa_5, nama_siswa_8, nama_siswa_7, nama_siswa_6,nama_siswa_8,sep=\"*\")"
      ],
      "metadata": {
        "colab": {
          "base_uri": "https://localhost:8080/"
        },
        "id": "ysrxRWtQtQfT",
        "outputId": "b6bcb992-885e-456e-8e2f-dcf7ad58e02e"
      },
      "execution_count": null,
      "outputs": [
        {
          "output_type": "stream",
          "name": "stdout",
          "text": [
            "Hasbi*Naufal*Rendra*Habibi*Naufal\n"
          ]
        }
      ]
    },
    {
      "cell_type": "code",
      "source": [
        "print('Bu Shinta berkata,\"Berikut adalah daftar piket harian kelas X.2 yang disimpan di file D:\\\\MAN Demak\\\\Jadwal Piket.\"')\n",
        "print(\"Senin\\tSelasa\\tRabu\")\n",
        "print(\"Jielo\\tHasbi\\tNaufal\")\n",
        "print(\"Azam\\tAida\\tNurul\")"
      ],
      "metadata": {
        "id": "acQtyJ3jtYoL",
        "outputId": "f9fa5f77-6d33-4466-9464-6fe3c5d6a83f",
        "colab": {
          "base_uri": "https://localhost:8080/"
        }
      },
      "execution_count": null,
      "outputs": [
        {
          "output_type": "stream",
          "name": "stdout",
          "text": [
            "Bu Shinta berkata,\"Berikut adalah daftar piket harian kelas X.2 yang disimpan di file D:\\MAN Demak\\Jadwal Piket.\"\n",
            "Senin\tSelasa\tRabu\n",
            "Jielo\tHasbi\tNaufal\n",
            "Azam\tAida\tNurul\n"
          ]
        }
      ]
    }
  ]
}